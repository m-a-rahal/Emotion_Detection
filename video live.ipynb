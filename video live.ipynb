{
 "cells": [
  {
   "cell_type": "code",
   "execution_count": 1,
   "id": "7d7d1503-47b6-4477-bf1f-718f10d13b41",
   "metadata": {},
   "outputs": [
    {
     "name": "stdout",
     "output_type": "stream",
     "text": [
      "WARNING:tensorflow:No training configuration found in the save file, so the model was *not* compiled. Compile it manually.\n"
     ]
    }
   ],
   "source": [
    "import emotion_detection as ed\n",
    "image_detector = ed.ImageEmotionDetector(face_detection_method=ed.HARR_CASCADE)\n",
    "video_detector = ed.VideoEmotionDetector(image_emotion_detector=image_detector,\n",
    "                                         logging=True)\n",
    "# objet capture vidéo\n",
    "video = ed.VideCapture(ed.FIRST_CAMERA, width=600, height=400, fps=60)"
   ]
  },
  {
   "cell_type": "code",
   "execution_count": 2,
   "id": "2d6e0f15-2f3c-4e5d-b8e4-107a40e604f1",
   "metadata": {},
   "outputs": [],
   "source": [
    "log = video_detector.detect(video)"
   ]
  },
  {
   "cell_type": "code",
   "execution_count": 3,
   "id": "87450cc8-c606-470d-9633-1c52cc6226f9",
   "metadata": {},
   "outputs": [
    {
     "name": "stdout",
     "output_type": "stream",
     "text": [
      "press 4 to show previous image\n",
      "press 6 to show next image\n",
      "press 8 and 2 to scroll through faces\n",
      "press 0 to exit\n"
     ]
    }
   ],
   "source": [
    "log.scroll_through_results()"
   ]
  },
  {
   "cell_type": "code",
   "execution_count": 6,
   "id": "d651ea94-3787-4d57-8f77-12a6e941df63",
   "metadata": {},
   "outputs": [],
   "source": [
    "video.play()"
   ]
  }
 ],
 "metadata": {
  "kernelspec": {
   "display_name": "Python 3 (ipykernel)",
   "language": "python",
   "name": "python3"
  },
  "language_info": {
   "codemirror_mode": {
    "name": "ipython",
    "version": 3
   },
   "file_extension": ".py",
   "mimetype": "text/x-python",
   "name": "python",
   "nbconvert_exporter": "python",
   "pygments_lexer": "ipython3",
   "version": "3.9.7"
  }
 },
 "nbformat": 4,
 "nbformat_minor": 5
}
