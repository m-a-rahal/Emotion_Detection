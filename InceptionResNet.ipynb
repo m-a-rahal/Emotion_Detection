{
 "cells": [
  {
   "cell_type": "code",
   "execution_count": null,
   "id": "7d7d1503-47b6-4477-bf1f-718f10d13b41",
   "metadata": {},
   "outputs": [],
   "source": [
    "import emotion_detection as ed\n",
    "\n",
    "# charger le modèle Inception ResNet entrainé sur le dataset FER+\n",
    "model = ed.models.load_default_model(ed.models.PRESET_ResNet_FERplus)\n",
    "\n",
    "image_detector = ed.ImageEmotionDetector(model=model, face_detection_method=ed.MTCNN)\n",
    "video_detector = ed.VideoEmotionDetector(image_emotion_detector=image_detector,\n",
    "                                         logging=True)\n",
    "# objet capture vidéo\n",
    "video = ed.VideCapture(ed.FIRST_CAMERA, width=600, height=400, fps=60)"
   ]
  },
  {
   "cell_type": "code",
   "execution_count": null,
   "id": "d2c2e139-b7d7-447c-b070-f70604f721e1",
   "metadata": {},
   "outputs": [],
   "source": [
    "image_detector.face_detection_method = ed.MTCNN\n",
    "res = image_detector('C:/Users/Mohamed/Pictures/emotions 3.png')"
   ]
  },
  {
   "cell_type": "code",
   "execution_count": null,
   "id": "e040d5d3-033d-4f79-b506-91edeb11a9c1",
   "metadata": {},
   "outputs": [],
   "source": [
    "for image in res.square_images:\n",
    "    image[:,:,:]=image[:,::-1,:]\n",
    "res.show_cam_heatmaps(model, argmax_cam=True, update_predictions=True)\n",
    "res.show_dataframe()"
   ]
  },
  {
   "cell_type": "code",
   "execution_count": null,
   "id": "2d6e0f15-2f3c-4e5d-b8e4-107a40e604f1",
   "metadata": {},
   "outputs": [],
   "source": [
    "image_detector.face_detection_method=ed.HARR_CASCADE\n",
    "video_detector.logging = False\n",
    "log = video_detector.detect(video)"
   ]
  },
  {
   "cell_type": "code",
   "execution_count": null,
   "id": "87450cc8-c606-470d-9633-1c52cc6226f9",
   "metadata": {},
   "outputs": [],
   "source": [
    "log.scroll_through_results()"
   ]
  },
  {
   "cell_type": "code",
   "execution_count": null,
   "id": "d651ea94-3787-4d57-8f77-12a6e941df63",
   "metadata": {},
   "outputs": [],
   "source": [
    "video.play()"
   ]
  },
  {
   "cell_type": "code",
   "execution_count": null,
   "id": "78d4bf32-9991-47bb-82d7-afe823366e5f",
   "metadata": {},
   "outputs": [],
   "source": [
    "import emotion_detection as ed\n",
    "# CHARGER LE MODELE -----------------------------------------------------------\n",
    "# charger le modèle Inception ResNet entrainé sur le dataset FER+\n",
    "model = ed.models.load_default_model(ed.models.PRESET_ResNet_FERplus)\n",
    "# Ou bien charger un autre modèle en spécifiant les paramètres suivants\n",
    "model = load_model('model.h5')\n",
    "model.emotions = ['happy', 'sad', 'surprise', ...]\n",
    "model.preprocessing = lambda x : x / 255.0\n",
    "# nom des couches du modèle (s'il est compatible avec CAM)\n",
    "model.model.cam_layers = [\n",
    "    'conv_68_activation', # derniere couche avant Global-Average-Pooling\n",
    "    'global_average_pool', # couhce Global-Average-Pooling\n",
    "    'output', # couche de sortie\n",
    "]\n",
    "#------------------------------------------------------------------------------\n",
    "image_detector = ed.ImageEmotionDetector(model=model, \n",
    "                                         face_detection_method=ed.MTCNN)\n",
    "res = image_detector('C:/Users/.../Pictures/emotions 3.png')"
   ]
  },
  {
   "cell_type": "code",
   "execution_count": null,
   "id": "60c3ae7a-ca07-43f2-94b0-3d3b69f071c4",
   "metadata": {},
   "outputs": [],
   "source": [
    "res.show_cam_heatmaps(\n",
    "    model, \n",
    "    # choisir comment calculer les activations CAM pour\n",
    "    # True,  pour prendre uniquement le CAM de la classe maximale\n",
    "    # False, pour prendre la somme pondérée des activation CAM, en utilisant\n",
    "    # (les probabilités des classes sont utilisés pour la pondération)\n",
    "    argmax_cam=True, \n",
    ")"
   ]
  }
 ],
 "metadata": {
  "kernelspec": {
   "display_name": "Python 3 (ipykernel)",
   "language": "python",
   "name": "python3"
  },
  "language_info": {
   "codemirror_mode": {
    "name": "ipython",
    "version": 3
   },
   "file_extension": ".py",
   "mimetype": "text/x-python",
   "name": "python",
   "nbconvert_exporter": "python",
   "pygments_lexer": "ipython3",
   "version": "3.9.7"
  }
 },
 "nbformat": 4,
 "nbformat_minor": 5
}
