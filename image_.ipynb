{
 "cells": [
  {
   "cell_type": "code",
   "execution_count": null,
   "id": "3ae85ba0-bfc3-4a4c-9f5d-1f89da323309",
   "metadata": {},
   "outputs": [],
   "source": [
    "import emotion_detection as ed\n",
    "image_detector = ed.ImageEmotionDetector(face_detection_method=ed.MTCNN)\n",
    "res = image_detector.detect('C:/Users/Mohamed/Pictures/emotions.png')"
   ]
  },
  {
   "cell_type": "code",
   "execution_count": null,
   "id": "447b8ef7-d4b3-4a54-8153-6c864cd466ce",
   "metadata": {},
   "outputs": [],
   "source": [
    "res.show_image()"
   ]
  },
  {
   "cell_type": "code",
   "execution_count": null,
   "id": "188b8859-2e65-4906-a128-1d31555f8819",
   "metadata": {},
   "outputs": [],
   "source": [
    "drawer = ed.Drawer(res.emotions, text_size=0.4)\n",
    "res.show_image_with_boxes(drawer)"
   ]
  },
  {
   "cell_type": "code",
   "execution_count": null,
   "id": "968a197a-6278-465c-861c-cf4f509debc5",
   "metadata": {},
   "outputs": [],
   "source": [
    "res.show_square_images()\n",
    "res.show_dataframe()"
   ]
  },
  {
   "cell_type": "markdown",
   "id": "32f4489d-9b58-48bc-8fb7-8dcd911f024c",
   "metadata": {},
   "source": [
    "# Inception ResNet"
   ]
  },
  {
   "cell_type": "code",
   "execution_count": null,
   "id": "86ed0351-89b5-4975-9088-4657b46b2da5",
   "metadata": {},
   "outputs": [],
   "source": [
    "import emotion_detection as ed\n",
    "\n",
    "# charger le modèle Inception ResNet entrainé sur le dataset FER+\n",
    "model = ed.models.load_default_model(ed.models.PRESET_ResNet_FERplus)\n",
    "image_detector = ed.ImageEmotionDetector(model=model, face_detection_method=ed.MTCNN)\n",
    "res = image_detector.detect('C:/Users/Mohamed/Pictures/emotions.png')"
   ]
  },
  {
   "cell_type": "code",
   "execution_count": null,
   "id": "a537b50b-8b10-4877-aa60-4ecc0a469023",
   "metadata": {},
   "outputs": [],
   "source": [
    "for image in res.square_images:\n",
    "    image[:,:,:]=image[:,::-1,:]\n",
    "res.show_cam_heatmaps(model, argmax_cam=False, update_predictions=True)\n",
    "res.show_dataframe()"
   ]
  }
 ],
 "metadata": {
  "kernelspec": {
   "display_name": "Python 3 (ipykernel)",
   "language": "python",
   "name": "python3"
  },
  "language_info": {
   "codemirror_mode": {
    "name": "ipython",
    "version": 3
   },
   "file_extension": ".py",
   "mimetype": "text/x-python",
   "name": "python",
   "nbconvert_exporter": "python",
   "pygments_lexer": "ipython3",
   "version": "3.9.7"
  }
 },
 "nbformat": 4,
 "nbformat_minor": 5
}
